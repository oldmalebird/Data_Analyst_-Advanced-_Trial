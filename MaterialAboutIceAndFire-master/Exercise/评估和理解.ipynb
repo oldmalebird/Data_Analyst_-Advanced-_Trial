{
 "cells": [
  {
   "cell_type": "markdown",
   "metadata": {},
   "source": [
    "# 评估和建立直觉\n",
    "一旦将数据加载到数据框中，Pandas 会非常简单、快速地对数据进行调查。我们现在介绍一些有效的数据集直觉评估和建立方法。可以使用之前的癌症数据。"
   ]
  },
  {
   "cell_type": "code",
   "execution_count": null,
   "metadata": {},
   "outputs": [],
   "source": [
    "import pandas as pd\n",
    "\n",
    "df = pd.read_csv('cancer_data.csv')\n",
    "df.head()"
   ]
  },
  {
   "cell_type": "code",
   "execution_count": null,
   "metadata": {},
   "outputs": [],
   "source": [
    "# 返回数据框维度的元组\n",
    "df.shape"
   ]
  },
  {
   "cell_type": "code",
   "execution_count": null,
   "metadata": {},
   "outputs": [],
   "source": [
    "# 返回列的数据类型\n",
    "df.dtypes"
   ]
  },
  {
   "cell_type": "code",
   "execution_count": null,
   "metadata": {},
   "outputs": [],
   "source": [
    "# 虽然供诊断的数据类型是对象，但进一步的\n",
    "# 调查显示，它是字符串\n",
    "type(df['diagnosis'][0])"
   ]
  },
  {
   "cell_type": "markdown",
   "metadata": {},
   "source": [
    "Pandas 实际上将 [指针](https://en.wikipedia.org/wiki/Pointer_(computer_programming) 存储为数据框和序列中的字符串，因此，数据类型是 `object` 而不是 `str`。了解这一点对数据分析来说并不重要，只需知道字符串在 Pandas 中以对象的形式呈现。"
   ]
  },
  {
   "cell_type": "code",
   "execution_count": null,
   "metadata": {},
   "outputs": [],
   "source": [
    "# 显示数据框的简明摘要，\n",
    "# 包括每列非空值的数量\n",
    "df.info()"
   ]
  },
  {
   "cell_type": "code",
   "execution_count": null,
   "metadata": {},
   "outputs": [],
   "source": [
    "# 返回每列数据的有效描述性统计\n",
    "df.describe()"
   ]
  },
  {
   "cell_type": "code",
   "execution_count": null,
   "metadata": {},
   "outputs": [],
   "source": [
    "# 返回数据框中的前几行\n",
    "# 默认返回前五行\n",
    "df.head()"
   ]
  },
  {
   "cell_type": "code",
   "execution_count": null,
   "metadata": {},
   "outputs": [],
   "source": [
    "# 但是也可以指定你希望返回的行数\n",
    "df.head(20)"
   ]
  },
  {
   "cell_type": "code",
   "execution_count": null,
   "metadata": {},
   "outputs": [],
   "source": [
    "# `.tail()` 返回最后几行，但是也可以指定你希望返回的行数\n",
    "df.tail(2)"
   ]
  },
  {
   "cell_type": "markdown",
   "metadata": {},
   "source": [
    "## 在 Pandas 中进行数据索引和选择\n",
    "我们现在把这个数据框分成三个新的数据框，每个度量为一个数据框（均值、标准误差和最大值）。如需获得每个数据框的数据，需要选择 `id` 和 `diagnosis` 列，以及这个度量的十个列。"
   ]
  },
  {
   "cell_type": "code",
   "execution_count": null,
   "metadata": {},
   "outputs": [],
   "source": [
    "# 查看每列的索引号和标签\n",
    "for i, v in enumerate(df.columns):\n",
    "    print(i, v)"
   ]
  },
  {
   "cell_type": "markdown",
   "metadata": {},
   "source": [
    "可以使用 `loc` 和 `iloc` 选择数据。可以点击  [这里](https://pandas.pydata.org/pandas-docs/stable/indexing.html)，了解  `loc` 和 `iloc` 的更多信息。`loc` 使用行标签或列标签选择数据，而 `iloc` 使用索引号。我们将用它们对下面的数据框进行索引。"
   ]
  },
  {
   "cell_type": "code",
   "execution_count": null,
   "metadata": {},
   "outputs": [],
   "source": [
    "# 选择从 'id' 到最后一个均值列的所有列\n",
    "df_means = df.loc[:,'id':'fractal_dimension_mean']\n",
    "df_means.head()"
   ]
  },
  {
   "cell_type": "code",
   "execution_count": null,
   "metadata": {},
   "outputs": [],
   "source": [
    "# 用索引号重复以上步骤\n",
    "df_means = df.iloc[:,:12]\n",
    "df_means.head()"
   ]
  },
  {
   "cell_type": "markdown",
   "metadata": {},
   "source": [
    "保存均值数据框，以便稍后使用。"
   ]
  },
  {
   "cell_type": "code",
   "execution_count": null,
   "metadata": {},
   "outputs": [],
   "source": [
    "df_means.to_csv('cancer_data_edited.csv', index=False)"
   ]
  },
  {
   "cell_type": "markdown",
   "metadata": {},
   "source": [
    "### 在 Pandas 中选择多个范围\n",
    "选择均值数据框的列非常简单，因为需要选择的列都在一起（`id`、`diagnosis` 以及均值列）。现在选择标准误差或最大值的列时，出现了一点问题。`id` 和  `diagnosis` 和所需的其它列是分开的，无法在一个范围内指定全部。\n",
    "\n",
    "首先，尝试自己创建标准误差数据框，了解为什么只有 `loc` 和 `iloc` 是分开的。然后，打开 [stackoverflow 链接](https://stackoverflow.com/questions/41256648/select-multiple-ranges-of-columns-in-pandas-dataframe) 学习如何在 Pandas 中选择多个范围，然后再次尝试。顺便说一下，我自己是在 google 中搜索 “如何选择多个范围 df.iloc” 时发现这个链接的。"
   ]
  },
  {
   "cell_type": "code",
   "execution_count": null,
   "metadata": {},
   "outputs": [],
   "source": [
    "# 创建标准误差数据框\n",
    "\n",
    "\n",
    "# 查看前几行，确认是否成功\n"
   ]
  },
  {
   "cell_type": "code",
   "execution_count": null,
   "metadata": {},
   "outputs": [],
   "source": [
    "# 创建最大值数据框\n",
    "\n",
    "\n",
    "# 查看前几行，确认是否成功\n"
   ]
  }
 ],
 "metadata": {
  "kernelspec": {
   "display_name": "Python 3",
   "language": "python",
   "name": "python3"
  },
  "language_info": {
   "codemirror_mode": {
    "name": "ipython",
    "version": 3
   },
   "file_extension": ".py",
   "mimetype": "text/x-python",
   "name": "python",
   "nbconvert_exporter": "python",
   "pygments_lexer": "ipython3",
   "version": "3.6.3"
  }
 },
 "nbformat": 4,
 "nbformat_minor": 2
}
